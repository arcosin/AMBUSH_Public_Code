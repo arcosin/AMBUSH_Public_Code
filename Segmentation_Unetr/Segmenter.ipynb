{
 "cells": [
  {
   "cell_type": "code",
   "execution_count": 1,
   "id": "4c9d59cc",
   "metadata": {},
   "outputs": [],
   "source": [
    "import os\n",
    "import json\n",
    "import time\n",
    "import copy\n",
    "\n",
    "import numpy as np\n",
    "from tqdm import tqdm\n",
    "from PIL import Image\n",
    "import matplotlib.pyplot as plt\n",
    "import torch\n",
    "from torch.utils.data import Dataset, DataLoader, ConcatDataset\n",
    "import torch.nn as nn\n",
    "import torch.optim as optim\n",
    "import torchvision.transforms.functional as f\n",
    "from monai.networks.nets import UNETR, UNet\n",
    "from monai.losses import DiceLoss"
   ]
  },
  {
   "cell_type": "code",
   "execution_count": 2,
   "id": "950f75aa",
   "metadata": {},
   "outputs": [],
   "source": [
    "data_dir = r'../../Shared_Datasets/burns/segmentation/Dataset_Augmented/'\n",
    "labels_dir = r'../../Shared_Datasets/burns/segmentation/Masks_Greyscale_Augmented/'\n",
    "save_dir = r'./'\n",
    "\n",
    "#data_dir = r'../data/segmentation/Dataset_Augmented'\n",
    "#labels_dir = r'../data/segmentation/Masks_Greyscale_Augmented'"
   ]
  },
  {
   "cell_type": "code",
   "execution_count": 3,
   "id": "e420a6d4",
   "metadata": {},
   "outputs": [],
   "source": [
    "mode = \"train\"\n",
    "model_type = \"unetr\"   #unetr, unet1, unet2\n",
    "batch_size = 8\n",
    "device = torch.device(\"cuda:0\")\n",
    "learning_rate = 0.00005\n",
    "n_epochs = 30\n",
    "#n_epochs = 60\n",
    "n_channels = 3"
   ]
  },
  {
   "cell_type": "code",
   "execution_count": 4,
   "id": "ea51e98a",
   "metadata": {},
   "outputs": [],
   "source": [
    "%matplotlib inline\n",
    "def show(img):\n",
    "    npimg = img.numpy()\n",
    "    plt.imshow(np.transpose(npimg, (1,2,0)), interpolation='nearest')\n",
    "    \n",
    "def to_colorrep(x):\n",
    "    mask = torch.zeros(1, 256, 256)\n",
    "    mask[0][x[0] == 1] = 127\n",
    "    mask[0][x[1] == 1] = 255\n",
    "    return mask\n",
    "\n",
    "def iou(x1, x2):\n",
    "    xc = x1 + x2\n",
    "    inter = (xc / 2).round().sum()\n",
    "    unio = xc.ceil(1).sum()\n",
    "    return inter / unio\n",
    "    "
   ]
  },
  {
   "cell_type": "code",
   "execution_count": 5,
   "id": "e16daf62",
   "metadata": {},
   "outputs": [],
   "source": [
    "class BurnRGBDataset(Dataset):\n",
    "    def __init__(self, inputs_dir, masks_dir):\n",
    "        self.inputs_dir = inputs_dir\n",
    "        self.masks_dir = masks_dir\n",
    "        self.data = os.listdir(self.inputs_dir)\n",
    "\n",
    "    def __len__(self):\n",
    "        return len(self.data)\n",
    "\n",
    "    def __getitem__(self, index):\n",
    "        file_name = self.data[index].split(\".\")[0]\n",
    "        input_file = os.path.join(self.inputs_dir, file_name + \".png\")\n",
    "        mask_file = os.path.join(self.masks_dir, file_name + \".png\")\n",
    "        image = Image.open(input_file)\n",
    "        mask = Image.open(mask_file)\n",
    "        image = np.array(image)\n",
    "        image = image.transpose(2, 0, 1) / 255\n",
    "        mask = np.array(mask)\n",
    "        target = torch.zeros(2, 256, 256)\n",
    "        target[0][mask == 0] = 0\n",
    "        target[1][mask == 0] = 0\n",
    "        target[0][mask == 127] = 1\n",
    "        target[1][mask == 255] = 1\n",
    "        img = torch.from_numpy(image).type(torch.FloatTensor)\n",
    "        return (img, target)"
   ]
  },
  {
   "cell_type": "code",
   "execution_count": 6,
   "id": "ba21872d",
   "metadata": {},
   "outputs": [],
   "source": [
    "def train_model(model, device, epochs, batch_size, lr, n_train, n_val, dataloader):\n",
    "    start = time.time()\n",
    "    optimizer = optim.Adam(model.parameters(), lr=lr)\n",
    "    # optimizer = optim.RMSprop(model.parameters(), lr=lr, weight_decay=1e-8, momentum=0.9)\n",
    "    # optimizer = optim.SGD(model.parameters(), lr=lr, momentum=0.9)\n",
    "    scheduler = optim.lr_scheduler.LambdaLR(optimizer, lr_lambda=lambda epoch: 0.95 ** epoch)\n",
    "    # scheduler = optim.lr_scheduler.ReduceLROnPlateau(optimizer, 'min', patience=10)\n",
    "    # scheduler = optim.lr_scheduler.StepLR(optimizer, step_size=30, gamma=0.1)\n",
    "    #criterion = nn.CrossEntropyLoss()\n",
    "    criterion = DiceLoss(to_onehot_y=True, softmax=True)\n",
    "    model = model.to(device)\n",
    "    train_loss = []\n",
    "    valid_loss = []\n",
    "    train_acc = []\n",
    "    valid_acc = []\n",
    "    best_model_weights = copy.deepcopy(model.state_dict())\n",
    "    best_acc = 0.0\n",
    "    for epoch in range(epochs):\n",
    "        print('Epoch {}/{}'.format(epoch+1, epochs))\n",
    "        for phase in ['Train', 'Val']:\n",
    "            running_loss = 0.0\n",
    "            running_corrects = 0.0\n",
    "            if phase == 'Train':\n",
    "                model.train()\n",
    "                for images, targets in tqdm(dataloader[phase]):\n",
    "                    images = images.to(device, dtype=torch.float32)\n",
    "                    targets = targets.to(device, dtype=torch.long)\n",
    "                    optimizer.zero_grad()\n",
    "                    outputs = model(images)\n",
    "                    _, predictions = torch.max(outputs, 1)\n",
    "                    _, target_classes = torch.max(targets, 1)\n",
    "                    loss = criterion(outputs[:,0:1,:,:], targets[:,0:1,:,:])\n",
    "                    loss += criterion(outputs[:,1:,:,:], targets[:,1:,:,:])\n",
    "                    loss = loss / 2\n",
    "                    loss.backward()\n",
    "                    nn.utils.clip_grad_value_(model.parameters(), 0.1)\n",
    "                    optimizer.step()\n",
    "                    running_loss += loss.item() * images.size(0)\n",
    "                    running_corrects += torch.sum(predictions == target_classes) / (256 ** 2)\n",
    "            else:\n",
    "                model.eval()\n",
    "                for images, targets in tqdm(dataloader[phase]):\n",
    "                    images = images.to(device, dtype=torch.float32)\n",
    "                    targets = targets.to(device, dtype=torch.long)\n",
    "                    optimizer.zero_grad()\n",
    "                    with torch.no_grad():\n",
    "                        outputs = model(images)\n",
    "                        _, predictions = torch.max(outputs, 1)\n",
    "                        _, target_classes = torch.max(targets, 1)\n",
    "                        loss = criterion(outputs[:,0:1,:,:], targets[:,0:1,:,:])\n",
    "                        loss += criterion(outputs[:,1:,:,:], targets[:,1:,:,:])\n",
    "                        loss = loss / 2\n",
    "                    running_loss += loss.item() * images.size(0)\n",
    "                    running_corrects += torch.sum(predictions == target_classes) / (256 ** 2)\n",
    "                scheduler.step()\n",
    "            epoch_loss = running_loss / len(dataloader[phase].dataset)\n",
    "            epoch_acc = (running_corrects / len(dataloader[phase].dataset)).cpu().numpy()\n",
    "            print('{} Loss: {:.4f}  Acc: {:.4f}'.format(phase, epoch_loss, epoch_acc))\n",
    "            if phase == 'Train':\n",
    "                train_loss.append(epoch_loss)\n",
    "                train_acc.append(epoch_acc)\n",
    "            else:\n",
    "                valid_loss.append(epoch_loss)\n",
    "                valid_acc.append(epoch_acc)\n",
    "                if epoch_acc > best_acc:\n",
    "                    best_acc = epoch_acc\n",
    "                    best_model_weights = copy.deepcopy(model.state_dict())\n",
    "    train_time = time.time() - start\n",
    "    print('Training complete in {:.0f}m {:.0f}'.format(train_time // 60, train_time % 60))\n",
    "    print('Best validation accuracy: {:.4f}'.format(best_acc))\n",
    "    plt.subplot(1, 2, 1)\n",
    "    plt.plot(list(range(epochs)), train_loss, color='skyblue', label='Train')\n",
    "    plt.plot(list(range(epochs)), valid_loss, color='orange', label='Val')\n",
    "    plt.legend()\n",
    "    plt.title('Loss')\n",
    "    plt.xlabel('Epoch')\n",
    "    plt.subplot(1, 2, 2)\n",
    "    plt.plot(list(range(epochs)), train_acc, color='skyblue', label='Train')\n",
    "    plt.plot(list(range(epochs)), valid_acc, color='orange', label='Val')\n",
    "    plt.legend()\n",
    "    plt.title('Accuracy')\n",
    "    plt.xlabel('Epoch')\n",
    "    plt.savefig(os.path.join(save_dir, \"training_plots.png\"))\n",
    "    model.load_state_dict(best_model_weights)\n",
    "    return (model, train_loss, train_acc, valid_loss, valid_acc)"
   ]
  },
  {
   "cell_type": "code",
   "execution_count": 7,
   "id": "17bca242",
   "metadata": {},
   "outputs": [],
   "source": [
    "# Create training and validation datasets\n",
    "train_ds = BurnRGBDataset(os.path.join(data_dir, \"Train\"), os.path.join(labels_dir, \"Train\"))\n",
    "valid_ds = BurnRGBDataset(os.path.join(data_dir, \"Val\"), os.path.join(labels_dir, \"Val\"))\n",
    "\n",
    "# Create training and validation dataloaders\n",
    "train_dl = DataLoader(train_ds, batch_size=batch_size, shuffle=True, drop_last = True)\n",
    "valid_dl = DataLoader(valid_ds, batch_size=batch_size, shuffle=False, drop_last = False)\n",
    "dataloader = {'Train': train_dl, 'Val': valid_dl}"
   ]
  },
  {
   "cell_type": "code",
   "execution_count": 8,
   "id": "88bc87aa",
   "metadata": {},
   "outputs": [],
   "source": [
    "if model_type == \"unetr\":\n",
    "    model = UNETR(\n",
    "        in_channels=3,\n",
    "        out_channels=2,\n",
    "        img_size=(256, 256),\n",
    "        spatial_dims=2,\n",
    "        feature_size=16,\n",
    "        hidden_size=768,\n",
    "        mlp_dim=3072,\n",
    "        num_heads=12,\n",
    "        pos_embed=\"perceptron\",\n",
    "        norm_name=\"instance\",\n",
    "        res_block=True,\n",
    "        dropout_rate=0.0,\n",
    "    )\n",
    "    model = nn.Sequential(model, nn.Sigmoid()).to(device)\n",
    "elif model_type == \"unet1\":\n",
    "    model = UNet(\n",
    "        spatial_dims=2,\n",
    "        in_channels=3,\n",
    "        out_channels=2,\n",
    "        channels=(4, 8, 16),\n",
    "        strides=(2, 2),\n",
    "        num_res_units=2\n",
    "    )\n",
    "    model = nn.Sequential(model, nn.Sigmoid()).to(device)\n",
    "elif model_type == \"unet2\":\n",
    "    model = UNet(\n",
    "        spatial_dims=2,\n",
    "        in_channels=3,\n",
    "        out_channels=2,\n",
    "        channels=(4, 8, 16, 32, 64),\n",
    "        strides=(2, 2, 2, 2),\n",
    "    )\n",
    "    model = nn.Sequential(model, nn.Sigmoid()).to(device)\n",
    "\n"
   ]
  },
  {
   "cell_type": "code",
   "execution_count": 9,
   "id": "2a12a92c",
   "metadata": {},
   "outputs": [
    {
     "data": {
      "text/plain": [
       "Sequential(\n",
       "  (0): UNETR(\n",
       "    (vit): ViT(\n",
       "      (patch_embedding): PatchEmbeddingBlock(\n",
       "        (patch_embeddings): Sequential(\n",
       "          (0): Rearrange('b c (h p1) (w p2) -> b (h w) (p1 p2 c)', p1=16, p2=16)\n",
       "          (1): Linear(in_features=768, out_features=768, bias=True)\n",
       "        )\n",
       "        (dropout): Dropout(p=0.0, inplace=False)\n",
       "      )\n",
       "      (blocks): ModuleList(\n",
       "        (0): TransformerBlock(\n",
       "          (mlp): MLPBlock(\n",
       "            (linear1): Linear(in_features=768, out_features=3072, bias=True)\n",
       "            (linear2): Linear(in_features=3072, out_features=768, bias=True)\n",
       "            (fn): GELU()\n",
       "            (drop1): Dropout(p=0.0, inplace=False)\n",
       "            (drop2): Dropout(p=0.0, inplace=False)\n",
       "          )\n",
       "          (norm1): LayerNorm((768,), eps=1e-05, elementwise_affine=True)\n",
       "          (attn): SABlock(\n",
       "            (out_proj): Linear(in_features=768, out_features=768, bias=True)\n",
       "            (qkv): Linear(in_features=768, out_features=2304, bias=False)\n",
       "            (input_rearrange): Rearrange('b h (qkv l d) -> qkv b l h d', qkv=3, l=12)\n",
       "            (out_rearrange): Rearrange('b h l d -> b l (h d)')\n",
       "            (drop_output): Dropout(p=0.0, inplace=False)\n",
       "            (drop_weights): Dropout(p=0.0, inplace=False)\n",
       "          )\n",
       "          (norm2): LayerNorm((768,), eps=1e-05, elementwise_affine=True)\n",
       "        )\n",
       "        (1): TransformerBlock(\n",
       "          (mlp): MLPBlock(\n",
       "            (linear1): Linear(in_features=768, out_features=3072, bias=True)\n",
       "            (linear2): Linear(in_features=3072, out_features=768, bias=True)\n",
       "            (fn): GELU()\n",
       "            (drop1): Dropout(p=0.0, inplace=False)\n",
       "            (drop2): Dropout(p=0.0, inplace=False)\n",
       "          )\n",
       "          (norm1): LayerNorm((768,), eps=1e-05, elementwise_affine=True)\n",
       "          (attn): SABlock(\n",
       "            (out_proj): Linear(in_features=768, out_features=768, bias=True)\n",
       "            (qkv): Linear(in_features=768, out_features=2304, bias=False)\n",
       "            (input_rearrange): Rearrange('b h (qkv l d) -> qkv b l h d', qkv=3, l=12)\n",
       "            (out_rearrange): Rearrange('b h l d -> b l (h d)')\n",
       "            (drop_output): Dropout(p=0.0, inplace=False)\n",
       "            (drop_weights): Dropout(p=0.0, inplace=False)\n",
       "          )\n",
       "          (norm2): LayerNorm((768,), eps=1e-05, elementwise_affine=True)\n",
       "        )\n",
       "        (2): TransformerBlock(\n",
       "          (mlp): MLPBlock(\n",
       "            (linear1): Linear(in_features=768, out_features=3072, bias=True)\n",
       "            (linear2): Linear(in_features=3072, out_features=768, bias=True)\n",
       "            (fn): GELU()\n",
       "            (drop1): Dropout(p=0.0, inplace=False)\n",
       "            (drop2): Dropout(p=0.0, inplace=False)\n",
       "          )\n",
       "          (norm1): LayerNorm((768,), eps=1e-05, elementwise_affine=True)\n",
       "          (attn): SABlock(\n",
       "            (out_proj): Linear(in_features=768, out_features=768, bias=True)\n",
       "            (qkv): Linear(in_features=768, out_features=2304, bias=False)\n",
       "            (input_rearrange): Rearrange('b h (qkv l d) -> qkv b l h d', qkv=3, l=12)\n",
       "            (out_rearrange): Rearrange('b h l d -> b l (h d)')\n",
       "            (drop_output): Dropout(p=0.0, inplace=False)\n",
       "            (drop_weights): Dropout(p=0.0, inplace=False)\n",
       "          )\n",
       "          (norm2): LayerNorm((768,), eps=1e-05, elementwise_affine=True)\n",
       "        )\n",
       "        (3): TransformerBlock(\n",
       "          (mlp): MLPBlock(\n",
       "            (linear1): Linear(in_features=768, out_features=3072, bias=True)\n",
       "            (linear2): Linear(in_features=3072, out_features=768, bias=True)\n",
       "            (fn): GELU()\n",
       "            (drop1): Dropout(p=0.0, inplace=False)\n",
       "            (drop2): Dropout(p=0.0, inplace=False)\n",
       "          )\n",
       "          (norm1): LayerNorm((768,), eps=1e-05, elementwise_affine=True)\n",
       "          (attn): SABlock(\n",
       "            (out_proj): Linear(in_features=768, out_features=768, bias=True)\n",
       "            (qkv): Linear(in_features=768, out_features=2304, bias=False)\n",
       "            (input_rearrange): Rearrange('b h (qkv l d) -> qkv b l h d', qkv=3, l=12)\n",
       "            (out_rearrange): Rearrange('b h l d -> b l (h d)')\n",
       "            (drop_output): Dropout(p=0.0, inplace=False)\n",
       "            (drop_weights): Dropout(p=0.0, inplace=False)\n",
       "          )\n",
       "          (norm2): LayerNorm((768,), eps=1e-05, elementwise_affine=True)\n",
       "        )\n",
       "        (4): TransformerBlock(\n",
       "          (mlp): MLPBlock(\n",
       "            (linear1): Linear(in_features=768, out_features=3072, bias=True)\n",
       "            (linear2): Linear(in_features=3072, out_features=768, bias=True)\n",
       "            (fn): GELU()\n",
       "            (drop1): Dropout(p=0.0, inplace=False)\n",
       "            (drop2): Dropout(p=0.0, inplace=False)\n",
       "          )\n",
       "          (norm1): LayerNorm((768,), eps=1e-05, elementwise_affine=True)\n",
       "          (attn): SABlock(\n",
       "            (out_proj): Linear(in_features=768, out_features=768, bias=True)\n",
       "            (qkv): Linear(in_features=768, out_features=2304, bias=False)\n",
       "            (input_rearrange): Rearrange('b h (qkv l d) -> qkv b l h d', qkv=3, l=12)\n",
       "            (out_rearrange): Rearrange('b h l d -> b l (h d)')\n",
       "            (drop_output): Dropout(p=0.0, inplace=False)\n",
       "            (drop_weights): Dropout(p=0.0, inplace=False)\n",
       "          )\n",
       "          (norm2): LayerNorm((768,), eps=1e-05, elementwise_affine=True)\n",
       "        )\n",
       "        (5): TransformerBlock(\n",
       "          (mlp): MLPBlock(\n",
       "            (linear1): Linear(in_features=768, out_features=3072, bias=True)\n",
       "            (linear2): Linear(in_features=3072, out_features=768, bias=True)\n",
       "            (fn): GELU()\n",
       "            (drop1): Dropout(p=0.0, inplace=False)\n",
       "            (drop2): Dropout(p=0.0, inplace=False)\n",
       "          )\n",
       "          (norm1): LayerNorm((768,), eps=1e-05, elementwise_affine=True)\n",
       "          (attn): SABlock(\n",
       "            (out_proj): Linear(in_features=768, out_features=768, bias=True)\n",
       "            (qkv): Linear(in_features=768, out_features=2304, bias=False)\n",
       "            (input_rearrange): Rearrange('b h (qkv l d) -> qkv b l h d', qkv=3, l=12)\n",
       "            (out_rearrange): Rearrange('b h l d -> b l (h d)')\n",
       "            (drop_output): Dropout(p=0.0, inplace=False)\n",
       "            (drop_weights): Dropout(p=0.0, inplace=False)\n",
       "          )\n",
       "          (norm2): LayerNorm((768,), eps=1e-05, elementwise_affine=True)\n",
       "        )\n",
       "        (6): TransformerBlock(\n",
       "          (mlp): MLPBlock(\n",
       "            (linear1): Linear(in_features=768, out_features=3072, bias=True)\n",
       "            (linear2): Linear(in_features=3072, out_features=768, bias=True)\n",
       "            (fn): GELU()\n",
       "            (drop1): Dropout(p=0.0, inplace=False)\n",
       "            (drop2): Dropout(p=0.0, inplace=False)\n",
       "          )\n",
       "          (norm1): LayerNorm((768,), eps=1e-05, elementwise_affine=True)\n",
       "          (attn): SABlock(\n",
       "            (out_proj): Linear(in_features=768, out_features=768, bias=True)\n",
       "            (qkv): Linear(in_features=768, out_features=2304, bias=False)\n",
       "            (input_rearrange): Rearrange('b h (qkv l d) -> qkv b l h d', qkv=3, l=12)\n",
       "            (out_rearrange): Rearrange('b h l d -> b l (h d)')\n",
       "            (drop_output): Dropout(p=0.0, inplace=False)\n",
       "            (drop_weights): Dropout(p=0.0, inplace=False)\n",
       "          )\n",
       "          (norm2): LayerNorm((768,), eps=1e-05, elementwise_affine=True)\n",
       "        )\n",
       "        (7): TransformerBlock(\n",
       "          (mlp): MLPBlock(\n",
       "            (linear1): Linear(in_features=768, out_features=3072, bias=True)\n",
       "            (linear2): Linear(in_features=3072, out_features=768, bias=True)\n",
       "            (fn): GELU()\n",
       "            (drop1): Dropout(p=0.0, inplace=False)\n",
       "            (drop2): Dropout(p=0.0, inplace=False)\n",
       "          )\n",
       "          (norm1): LayerNorm((768,), eps=1e-05, elementwise_affine=True)\n",
       "          (attn): SABlock(\n",
       "            (out_proj): Linear(in_features=768, out_features=768, bias=True)\n",
       "            (qkv): Linear(in_features=768, out_features=2304, bias=False)\n",
       "            (input_rearrange): Rearrange('b h (qkv l d) -> qkv b l h d', qkv=3, l=12)\n",
       "            (out_rearrange): Rearrange('b h l d -> b l (h d)')\n",
       "            (drop_output): Dropout(p=0.0, inplace=False)\n",
       "            (drop_weights): Dropout(p=0.0, inplace=False)\n",
       "          )\n",
       "          (norm2): LayerNorm((768,), eps=1e-05, elementwise_affine=True)\n",
       "        )\n",
       "        (8): TransformerBlock(\n",
       "          (mlp): MLPBlock(\n",
       "            (linear1): Linear(in_features=768, out_features=3072, bias=True)\n",
       "            (linear2): Linear(in_features=3072, out_features=768, bias=True)\n",
       "            (fn): GELU()\n",
       "            (drop1): Dropout(p=0.0, inplace=False)\n",
       "            (drop2): Dropout(p=0.0, inplace=False)\n",
       "          )\n",
       "          (norm1): LayerNorm((768,), eps=1e-05, elementwise_affine=True)\n",
       "          (attn): SABlock(\n",
       "            (out_proj): Linear(in_features=768, out_features=768, bias=True)\n",
       "            (qkv): Linear(in_features=768, out_features=2304, bias=False)\n",
       "            (input_rearrange): Rearrange('b h (qkv l d) -> qkv b l h d', qkv=3, l=12)\n",
       "            (out_rearrange): Rearrange('b h l d -> b l (h d)')\n",
       "            (drop_output): Dropout(p=0.0, inplace=False)\n",
       "            (drop_weights): Dropout(p=0.0, inplace=False)\n",
       "          )\n",
       "          (norm2): LayerNorm((768,), eps=1e-05, elementwise_affine=True)\n",
       "        )\n",
       "        (9): TransformerBlock(\n",
       "          (mlp): MLPBlock(\n",
       "            (linear1): Linear(in_features=768, out_features=3072, bias=True)\n",
       "            (linear2): Linear(in_features=3072, out_features=768, bias=True)\n",
       "            (fn): GELU()\n",
       "            (drop1): Dropout(p=0.0, inplace=False)\n",
       "            (drop2): Dropout(p=0.0, inplace=False)\n",
       "          )\n",
       "          (norm1): LayerNorm((768,), eps=1e-05, elementwise_affine=True)\n",
       "          (attn): SABlock(\n",
       "            (out_proj): Linear(in_features=768, out_features=768, bias=True)\n",
       "            (qkv): Linear(in_features=768, out_features=2304, bias=False)\n",
       "            (input_rearrange): Rearrange('b h (qkv l d) -> qkv b l h d', qkv=3, l=12)\n",
       "            (out_rearrange): Rearrange('b h l d -> b l (h d)')\n",
       "            (drop_output): Dropout(p=0.0, inplace=False)\n",
       "            (drop_weights): Dropout(p=0.0, inplace=False)\n",
       "          )\n",
       "          (norm2): LayerNorm((768,), eps=1e-05, elementwise_affine=True)\n",
       "        )\n",
       "        (10): TransformerBlock(\n",
       "          (mlp): MLPBlock(\n",
       "            (linear1): Linear(in_features=768, out_features=3072, bias=True)\n",
       "            (linear2): Linear(in_features=3072, out_features=768, bias=True)\n",
       "            (fn): GELU()\n",
       "            (drop1): Dropout(p=0.0, inplace=False)\n",
       "            (drop2): Dropout(p=0.0, inplace=False)\n",
       "          )\n",
       "          (norm1): LayerNorm((768,), eps=1e-05, elementwise_affine=True)\n",
       "          (attn): SABlock(\n",
       "            (out_proj): Linear(in_features=768, out_features=768, bias=True)\n",
       "            (qkv): Linear(in_features=768, out_features=2304, bias=False)\n",
       "            (input_rearrange): Rearrange('b h (qkv l d) -> qkv b l h d', qkv=3, l=12)\n",
       "            (out_rearrange): Rearrange('b h l d -> b l (h d)')\n",
       "            (drop_output): Dropout(p=0.0, inplace=False)\n",
       "            (drop_weights): Dropout(p=0.0, inplace=False)\n",
       "          )\n",
       "          (norm2): LayerNorm((768,), eps=1e-05, elementwise_affine=True)\n",
       "        )\n",
       "        (11): TransformerBlock(\n",
       "          (mlp): MLPBlock(\n",
       "            (linear1): Linear(in_features=768, out_features=3072, bias=True)\n",
       "            (linear2): Linear(in_features=3072, out_features=768, bias=True)\n",
       "            (fn): GELU()\n",
       "            (drop1): Dropout(p=0.0, inplace=False)\n",
       "            (drop2): Dropout(p=0.0, inplace=False)\n",
       "          )\n",
       "          (norm1): LayerNorm((768,), eps=1e-05, elementwise_affine=True)\n",
       "          (attn): SABlock(\n",
       "            (out_proj): Linear(in_features=768, out_features=768, bias=True)\n",
       "            (qkv): Linear(in_features=768, out_features=2304, bias=False)\n",
       "            (input_rearrange): Rearrange('b h (qkv l d) -> qkv b l h d', qkv=3, l=12)\n",
       "            (out_rearrange): Rearrange('b h l d -> b l (h d)')\n",
       "            (drop_output): Dropout(p=0.0, inplace=False)\n",
       "            (drop_weights): Dropout(p=0.0, inplace=False)\n",
       "          )\n",
       "          (norm2): LayerNorm((768,), eps=1e-05, elementwise_affine=True)\n",
       "        )\n",
       "      )\n",
       "      (norm): LayerNorm((768,), eps=1e-05, elementwise_affine=True)\n",
       "    )\n",
       "    (encoder1): UnetrBasicBlock(\n",
       "      (layer): UnetResBlock(\n",
       "        (conv1): Convolution(\n",
       "          (conv): Conv2d(3, 16, kernel_size=(3, 3), stride=(1, 1), padding=(1, 1), bias=False)\n",
       "        )\n",
       "        (conv2): Convolution(\n",
       "          (conv): Conv2d(16, 16, kernel_size=(3, 3), stride=(1, 1), padding=(1, 1), bias=False)\n",
       "        )\n",
       "        (lrelu): LeakyReLU(negative_slope=0.01, inplace=True)\n",
       "        (norm1): InstanceNorm2d(16, eps=1e-05, momentum=0.1, affine=False, track_running_stats=False)\n",
       "        (norm2): InstanceNorm2d(16, eps=1e-05, momentum=0.1, affine=False, track_running_stats=False)\n",
       "        (conv3): Convolution(\n",
       "          (conv): Conv2d(3, 16, kernel_size=(1, 1), stride=(1, 1), bias=False)\n",
       "        )\n",
       "        (norm3): InstanceNorm2d(16, eps=1e-05, momentum=0.1, affine=False, track_running_stats=False)\n",
       "      )\n",
       "    )\n",
       "    (encoder2): UnetrPrUpBlock(\n",
       "      (transp_conv_init): Convolution(\n",
       "        (conv): ConvTranspose2d(768, 32, kernel_size=(2, 2), stride=(2, 2), bias=False)\n",
       "      )\n",
       "      (blocks): ModuleList(\n",
       "        (0): Sequential(\n",
       "          (0): Convolution(\n",
       "            (conv): ConvTranspose2d(32, 32, kernel_size=(2, 2), stride=(2, 2), bias=False)\n",
       "          )\n",
       "          (1): UnetResBlock(\n",
       "            (conv1): Convolution(\n",
       "              (conv): Conv2d(32, 32, kernel_size=(3, 3), stride=(1, 1), padding=(1, 1), bias=False)\n",
       "            )\n",
       "            (conv2): Convolution(\n",
       "              (conv): Conv2d(32, 32, kernel_size=(3, 3), stride=(1, 1), padding=(1, 1), bias=False)\n",
       "            )\n",
       "            (lrelu): LeakyReLU(negative_slope=0.01, inplace=True)\n",
       "            (norm1): InstanceNorm2d(32, eps=1e-05, momentum=0.1, affine=False, track_running_stats=False)\n",
       "            (norm2): InstanceNorm2d(32, eps=1e-05, momentum=0.1, affine=False, track_running_stats=False)\n",
       "          )\n",
       "        )\n",
       "        (1): Sequential(\n",
       "          (0): Convolution(\n",
       "            (conv): ConvTranspose2d(32, 32, kernel_size=(2, 2), stride=(2, 2), bias=False)\n",
       "          )\n",
       "          (1): UnetResBlock(\n",
       "            (conv1): Convolution(\n",
       "              (conv): Conv2d(32, 32, kernel_size=(3, 3), stride=(1, 1), padding=(1, 1), bias=False)\n",
       "            )\n",
       "            (conv2): Convolution(\n",
       "              (conv): Conv2d(32, 32, kernel_size=(3, 3), stride=(1, 1), padding=(1, 1), bias=False)\n",
       "            )\n",
       "            (lrelu): LeakyReLU(negative_slope=0.01, inplace=True)\n",
       "            (norm1): InstanceNorm2d(32, eps=1e-05, momentum=0.1, affine=False, track_running_stats=False)\n",
       "            (norm2): InstanceNorm2d(32, eps=1e-05, momentum=0.1, affine=False, track_running_stats=False)\n",
       "          )\n",
       "        )\n",
       "      )\n",
       "    )\n",
       "    (encoder3): UnetrPrUpBlock(\n",
       "      (transp_conv_init): Convolution(\n",
       "        (conv): ConvTranspose2d(768, 64, kernel_size=(2, 2), stride=(2, 2), bias=False)\n",
       "      )\n",
       "      (blocks): ModuleList(\n",
       "        (0): Sequential(\n",
       "          (0): Convolution(\n",
       "            (conv): ConvTranspose2d(64, 64, kernel_size=(2, 2), stride=(2, 2), bias=False)\n",
       "          )\n",
       "          (1): UnetResBlock(\n",
       "            (conv1): Convolution(\n",
       "              (conv): Conv2d(64, 64, kernel_size=(3, 3), stride=(1, 1), padding=(1, 1), bias=False)\n",
       "            )\n",
       "            (conv2): Convolution(\n",
       "              (conv): Conv2d(64, 64, kernel_size=(3, 3), stride=(1, 1), padding=(1, 1), bias=False)\n",
       "            )\n",
       "            (lrelu): LeakyReLU(negative_slope=0.01, inplace=True)\n",
       "            (norm1): InstanceNorm2d(64, eps=1e-05, momentum=0.1, affine=False, track_running_stats=False)\n",
       "            (norm2): InstanceNorm2d(64, eps=1e-05, momentum=0.1, affine=False, track_running_stats=False)\n",
       "          )\n",
       "        )\n",
       "      )\n",
       "    )\n",
       "    (encoder4): UnetrPrUpBlock(\n",
       "      (transp_conv_init): Convolution(\n",
       "        (conv): ConvTranspose2d(768, 128, kernel_size=(2, 2), stride=(2, 2), bias=False)\n",
       "      )\n",
       "      (blocks): ModuleList()\n",
       "    )\n",
       "    (decoder5): UnetrUpBlock(\n",
       "      (transp_conv): Convolution(\n",
       "        (conv): ConvTranspose2d(768, 128, kernel_size=(2, 2), stride=(2, 2), bias=False)\n",
       "      )\n",
       "      (conv_block): UnetResBlock(\n",
       "        (conv1): Convolution(\n",
       "          (conv): Conv2d(256, 128, kernel_size=(3, 3), stride=(1, 1), padding=(1, 1), bias=False)\n",
       "        )\n",
       "        (conv2): Convolution(\n",
       "          (conv): Conv2d(128, 128, kernel_size=(3, 3), stride=(1, 1), padding=(1, 1), bias=False)\n",
       "        )\n",
       "        (lrelu): LeakyReLU(negative_slope=0.01, inplace=True)\n",
       "        (norm1): InstanceNorm2d(128, eps=1e-05, momentum=0.1, affine=False, track_running_stats=False)\n",
       "        (norm2): InstanceNorm2d(128, eps=1e-05, momentum=0.1, affine=False, track_running_stats=False)\n",
       "        (conv3): Convolution(\n",
       "          (conv): Conv2d(256, 128, kernel_size=(1, 1), stride=(1, 1), bias=False)\n",
       "        )\n",
       "        (norm3): InstanceNorm2d(128, eps=1e-05, momentum=0.1, affine=False, track_running_stats=False)\n",
       "      )\n",
       "    )\n",
       "    (decoder4): UnetrUpBlock(\n",
       "      (transp_conv): Convolution(\n",
       "        (conv): ConvTranspose2d(128, 64, kernel_size=(2, 2), stride=(2, 2), bias=False)\n",
       "      )\n",
       "      (conv_block): UnetResBlock(\n",
       "        (conv1): Convolution(\n",
       "          (conv): Conv2d(128, 64, kernel_size=(3, 3), stride=(1, 1), padding=(1, 1), bias=False)\n",
       "        )\n",
       "        (conv2): Convolution(\n",
       "          (conv): Conv2d(64, 64, kernel_size=(3, 3), stride=(1, 1), padding=(1, 1), bias=False)\n",
       "        )\n",
       "        (lrelu): LeakyReLU(negative_slope=0.01, inplace=True)\n",
       "        (norm1): InstanceNorm2d(64, eps=1e-05, momentum=0.1, affine=False, track_running_stats=False)\n",
       "        (norm2): InstanceNorm2d(64, eps=1e-05, momentum=0.1, affine=False, track_running_stats=False)\n",
       "        (conv3): Convolution(\n",
       "          (conv): Conv2d(128, 64, kernel_size=(1, 1), stride=(1, 1), bias=False)\n",
       "        )\n",
       "        (norm3): InstanceNorm2d(64, eps=1e-05, momentum=0.1, affine=False, track_running_stats=False)\n",
       "      )\n",
       "    )\n",
       "    (decoder3): UnetrUpBlock(\n",
       "      (transp_conv): Convolution(\n",
       "        (conv): ConvTranspose2d(64, 32, kernel_size=(2, 2), stride=(2, 2), bias=False)\n",
       "      )\n",
       "      (conv_block): UnetResBlock(\n",
       "        (conv1): Convolution(\n",
       "          (conv): Conv2d(64, 32, kernel_size=(3, 3), stride=(1, 1), padding=(1, 1), bias=False)\n",
       "        )\n",
       "        (conv2): Convolution(\n",
       "          (conv): Conv2d(32, 32, kernel_size=(3, 3), stride=(1, 1), padding=(1, 1), bias=False)\n",
       "        )\n",
       "        (lrelu): LeakyReLU(negative_slope=0.01, inplace=True)\n",
       "        (norm1): InstanceNorm2d(32, eps=1e-05, momentum=0.1, affine=False, track_running_stats=False)\n",
       "        (norm2): InstanceNorm2d(32, eps=1e-05, momentum=0.1, affine=False, track_running_stats=False)\n",
       "        (conv3): Convolution(\n",
       "          (conv): Conv2d(64, 32, kernel_size=(1, 1), stride=(1, 1), bias=False)\n",
       "        )\n",
       "        (norm3): InstanceNorm2d(32, eps=1e-05, momentum=0.1, affine=False, track_running_stats=False)\n",
       "      )\n",
       "    )\n",
       "    (decoder2): UnetrUpBlock(\n",
       "      (transp_conv): Convolution(\n",
       "        (conv): ConvTranspose2d(32, 16, kernel_size=(2, 2), stride=(2, 2), bias=False)\n",
       "      )\n",
       "      (conv_block): UnetResBlock(\n",
       "        (conv1): Convolution(\n",
       "          (conv): Conv2d(32, 16, kernel_size=(3, 3), stride=(1, 1), padding=(1, 1), bias=False)\n",
       "        )\n",
       "        (conv2): Convolution(\n",
       "          (conv): Conv2d(16, 16, kernel_size=(3, 3), stride=(1, 1), padding=(1, 1), bias=False)\n",
       "        )\n",
       "        (lrelu): LeakyReLU(negative_slope=0.01, inplace=True)\n",
       "        (norm1): InstanceNorm2d(16, eps=1e-05, momentum=0.1, affine=False, track_running_stats=False)\n",
       "        (norm2): InstanceNorm2d(16, eps=1e-05, momentum=0.1, affine=False, track_running_stats=False)\n",
       "        (conv3): Convolution(\n",
       "          (conv): Conv2d(32, 16, kernel_size=(1, 1), stride=(1, 1), bias=False)\n",
       "        )\n",
       "        (norm3): InstanceNorm2d(16, eps=1e-05, momentum=0.1, affine=False, track_running_stats=False)\n",
       "      )\n",
       "    )\n",
       "    (out): UnetOutBlock(\n",
       "      (conv): Convolution(\n",
       "        (conv): Conv2d(16, 2, kernel_size=(1, 1), stride=(1, 1))\n",
       "      )\n",
       "    )\n",
       "  )\n",
       "  (1): Sigmoid()\n",
       ")"
      ]
     },
     "execution_count": 9,
     "metadata": {},
     "output_type": "execute_result"
    }
   ],
   "source": [
    "model"
   ]
  },
  {
   "cell_type": "code",
   "execution_count": 10,
   "id": "7ea6f352",
   "metadata": {},
   "outputs": [
    {
     "name": "stdout",
     "output_type": "stream",
     "text": [
      "Epoch 1/30\n"
     ]
    },
    {
     "name": "stderr",
     "output_type": "stream",
     "text": [
      "  0%|                                                                                          | 0/101 [00:00<?, ?it/s]single channel prediction, `softmax=True` ignored.\n",
      "single channel prediction, `to_onehot_y=True` ignored.\n",
      "100%|████████████████████████████████████████████████████████████████████████████████| 101/101 [00:45<00:00,  2.21it/s]\n"
     ]
    },
    {
     "name": "stdout",
     "output_type": "stream",
     "text": [
      "Train Loss: 0.6122  Acc: 0.5895\n"
     ]
    },
    {
     "name": "stderr",
     "output_type": "stream",
     "text": [
      "100%|████████████████████████████████████████████████████████████████████████████████████| 8/8 [00:01<00:00,  5.91it/s]\n"
     ]
    },
    {
     "name": "stdout",
     "output_type": "stream",
     "text": [
      "Val Loss: 0.5478  Acc: 0.6295\n",
      "Epoch 2/30\n"
     ]
    },
    {
     "name": "stderr",
     "output_type": "stream",
     "text": [
      "100%|████████████████████████████████████████████████████████████████████████████████| 101/101 [00:43<00:00,  2.32it/s]\n"
     ]
    },
    {
     "name": "stdout",
     "output_type": "stream",
     "text": [
      "Train Loss: 0.5071  Acc: 0.6544\n"
     ]
    },
    {
     "name": "stderr",
     "output_type": "stream",
     "text": [
      "100%|████████████████████████████████████████████████████████████████████████████████████| 8/8 [00:01<00:00,  5.69it/s]\n"
     ]
    },
    {
     "name": "stdout",
     "output_type": "stream",
     "text": [
      "Val Loss: 0.4887  Acc: 0.6770\n",
      "Epoch 3/30\n"
     ]
    },
    {
     "name": "stderr",
     "output_type": "stream",
     "text": [
      "100%|████████████████████████████████████████████████████████████████████████████████| 101/101 [00:44<00:00,  2.25it/s]\n"
     ]
    },
    {
     "name": "stdout",
     "output_type": "stream",
     "text": [
      "Train Loss: 0.4659  Acc: 0.7062\n"
     ]
    },
    {
     "name": "stderr",
     "output_type": "stream",
     "text": [
      "100%|████████████████████████████████████████████████████████████████████████████████████| 8/8 [00:01<00:00,  5.73it/s]\n"
     ]
    },
    {
     "name": "stdout",
     "output_type": "stream",
     "text": [
      "Val Loss: 0.4587  Acc: 0.7223\n",
      "Epoch 4/30\n"
     ]
    },
    {
     "name": "stderr",
     "output_type": "stream",
     "text": [
      "100%|████████████████████████████████████████████████████████████████████████████████| 101/101 [00:44<00:00,  2.25it/s]\n"
     ]
    },
    {
     "name": "stdout",
     "output_type": "stream",
     "text": [
      "Train Loss: 0.4425  Acc: 0.7458\n"
     ]
    },
    {
     "name": "stderr",
     "output_type": "stream",
     "text": [
      "100%|████████████████████████████████████████████████████████████████████████████████████| 8/8 [00:01<00:00,  5.46it/s]\n"
     ]
    },
    {
     "name": "stdout",
     "output_type": "stream",
     "text": [
      "Val Loss: 0.4393  Acc: 0.7621\n",
      "Epoch 5/30\n"
     ]
    },
    {
     "name": "stderr",
     "output_type": "stream",
     "text": [
      "100%|████████████████████████████████████████████████████████████████████████████████| 101/101 [00:45<00:00,  2.23it/s]\n"
     ]
    },
    {
     "name": "stdout",
     "output_type": "stream",
     "text": [
      "Train Loss: 0.4234  Acc: 0.7784\n"
     ]
    },
    {
     "name": "stderr",
     "output_type": "stream",
     "text": [
      "100%|████████████████████████████████████████████████████████████████████████████████████| 8/8 [00:01<00:00,  5.67it/s]\n"
     ]
    },
    {
     "name": "stdout",
     "output_type": "stream",
     "text": [
      "Val Loss: 0.4263  Acc: 0.7917\n",
      "Epoch 6/30\n"
     ]
    },
    {
     "name": "stderr",
     "output_type": "stream",
     "text": [
      "100%|████████████████████████████████████████████████████████████████████████████████| 101/101 [00:44<00:00,  2.29it/s]\n"
     ]
    },
    {
     "name": "stdout",
     "output_type": "stream",
     "text": [
      "Train Loss: 0.4084  Acc: 0.8083\n"
     ]
    },
    {
     "name": "stderr",
     "output_type": "stream",
     "text": [
      "100%|████████████████████████████████████████████████████████████████████████████████████| 8/8 [00:01<00:00,  5.78it/s]\n"
     ]
    },
    {
     "name": "stdout",
     "output_type": "stream",
     "text": [
      "Val Loss: 0.4150  Acc: 0.8119\n",
      "Epoch 7/30\n"
     ]
    },
    {
     "name": "stderr",
     "output_type": "stream",
     "text": [
      "100%|████████████████████████████████████████████████████████████████████████████████| 101/101 [00:43<00:00,  2.31it/s]\n"
     ]
    },
    {
     "name": "stdout",
     "output_type": "stream",
     "text": [
      "Train Loss: 0.3963  Acc: 0.8228\n"
     ]
    },
    {
     "name": "stderr",
     "output_type": "stream",
     "text": [
      "100%|████████████████████████████████████████████████████████████████████████████████████| 8/8 [00:01<00:00,  5.62it/s]\n"
     ]
    },
    {
     "name": "stdout",
     "output_type": "stream",
     "text": [
      "Val Loss: 0.4052  Acc: 0.8265\n",
      "Epoch 8/30\n"
     ]
    },
    {
     "name": "stderr",
     "output_type": "stream",
     "text": [
      "100%|████████████████████████████████████████████████████████████████████████████████| 101/101 [00:44<00:00,  2.27it/s]\n"
     ]
    },
    {
     "name": "stdout",
     "output_type": "stream",
     "text": [
      "Train Loss: 0.3865  Acc: 0.8371\n"
     ]
    },
    {
     "name": "stderr",
     "output_type": "stream",
     "text": [
      "100%|████████████████████████████████████████████████████████████████████████████████████| 8/8 [00:01<00:00,  5.69it/s]\n"
     ]
    },
    {
     "name": "stdout",
     "output_type": "stream",
     "text": [
      "Val Loss: 0.4021  Acc: 0.8363\n",
      "Epoch 9/30\n"
     ]
    },
    {
     "name": "stderr",
     "output_type": "stream",
     "text": [
      "100%|████████████████████████████████████████████████████████████████████████████████| 101/101 [00:45<00:00,  2.21it/s]\n"
     ]
    },
    {
     "name": "stdout",
     "output_type": "stream",
     "text": [
      "Train Loss: 0.3748  Acc: 0.8466\n"
     ]
    },
    {
     "name": "stderr",
     "output_type": "stream",
     "text": [
      "100%|████████████████████████████████████████████████████████████████████████████████████| 8/8 [00:01<00:00,  5.47it/s]\n"
     ]
    },
    {
     "name": "stdout",
     "output_type": "stream",
     "text": [
      "Val Loss: 0.3989  Acc: 0.8376\n",
      "Epoch 10/30\n"
     ]
    },
    {
     "name": "stderr",
     "output_type": "stream",
     "text": [
      "100%|████████████████████████████████████████████████████████████████████████████████| 101/101 [00:45<00:00,  2.21it/s]\n"
     ]
    },
    {
     "name": "stdout",
     "output_type": "stream",
     "text": [
      "Train Loss: 0.3646  Acc: 0.8584\n"
     ]
    },
    {
     "name": "stderr",
     "output_type": "stream",
     "text": [
      "100%|████████████████████████████████████████████████████████████████████████████████████| 8/8 [00:01<00:00,  5.61it/s]\n"
     ]
    },
    {
     "name": "stdout",
     "output_type": "stream",
     "text": [
      "Val Loss: 0.4075  Acc: 0.8403\n",
      "Epoch 11/30\n"
     ]
    },
    {
     "name": "stderr",
     "output_type": "stream",
     "text": [
      "100%|████████████████████████████████████████████████████████████████████████████████| 101/101 [00:45<00:00,  2.22it/s]\n"
     ]
    },
    {
     "name": "stdout",
     "output_type": "stream",
     "text": [
      "Train Loss: 0.3576  Acc: 0.8652\n"
     ]
    },
    {
     "name": "stderr",
     "output_type": "stream",
     "text": [
      "100%|████████████████████████████████████████████████████████████████████████████████████| 8/8 [00:01<00:00,  5.64it/s]\n"
     ]
    },
    {
     "name": "stdout",
     "output_type": "stream",
     "text": [
      "Val Loss: 0.3956  Acc: 0.8563\n",
      "Epoch 12/30\n"
     ]
    },
    {
     "name": "stderr",
     "output_type": "stream",
     "text": [
      "100%|████████████████████████████████████████████████████████████████████████████████| 101/101 [00:45<00:00,  2.20it/s]\n"
     ]
    },
    {
     "name": "stdout",
     "output_type": "stream",
     "text": [
      "Train Loss: 0.3444  Acc: 0.8763\n"
     ]
    },
    {
     "name": "stderr",
     "output_type": "stream",
     "text": [
      "100%|████████████████████████████████████████████████████████████████████████████████████| 8/8 [00:01<00:00,  5.63it/s]\n"
     ]
    },
    {
     "name": "stdout",
     "output_type": "stream",
     "text": [
      "Val Loss: 0.3896  Acc: 0.8552\n",
      "Epoch 13/30\n"
     ]
    },
    {
     "name": "stderr",
     "output_type": "stream",
     "text": [
      "100%|████████████████████████████████████████████████████████████████████████████████| 101/101 [00:44<00:00,  2.29it/s]\n"
     ]
    },
    {
     "name": "stdout",
     "output_type": "stream",
     "text": [
      "Train Loss: 0.3360  Acc: 0.8807\n"
     ]
    },
    {
     "name": "stderr",
     "output_type": "stream",
     "text": [
      "100%|████████████████████████████████████████████████████████████████████████████████████| 8/8 [00:01<00:00,  5.71it/s]\n"
     ]
    },
    {
     "name": "stdout",
     "output_type": "stream",
     "text": [
      "Val Loss: 0.3790  Acc: 0.8666\n",
      "Epoch 14/30\n"
     ]
    },
    {
     "name": "stderr",
     "output_type": "stream",
     "text": [
      "100%|████████████████████████████████████████████████████████████████████████████████| 101/101 [00:44<00:00,  2.29it/s]\n"
     ]
    },
    {
     "name": "stdout",
     "output_type": "stream",
     "text": [
      "Train Loss: 0.3268  Acc: 0.8892\n"
     ]
    },
    {
     "name": "stderr",
     "output_type": "stream",
     "text": [
      "100%|████████████████████████████████████████████████████████████████████████████████████| 8/8 [00:01<00:00,  5.68it/s]\n"
     ]
    },
    {
     "name": "stdout",
     "output_type": "stream",
     "text": [
      "Val Loss: 0.3795  Acc: 0.8684\n",
      "Epoch 15/30\n"
     ]
    },
    {
     "name": "stderr",
     "output_type": "stream",
     "text": [
      "100%|████████████████████████████████████████████████████████████████████████████████| 101/101 [00:43<00:00,  2.30it/s]\n"
     ]
    },
    {
     "name": "stdout",
     "output_type": "stream",
     "text": [
      "Train Loss: 0.3192  Acc: 0.8927\n"
     ]
    },
    {
     "name": "stderr",
     "output_type": "stream",
     "text": [
      "100%|████████████████████████████████████████████████████████████████████████████████████| 8/8 [00:01<00:00,  5.67it/s]\n"
     ]
    },
    {
     "name": "stdout",
     "output_type": "stream",
     "text": [
      "Val Loss: 0.3764  Acc: 0.8703\n",
      "Epoch 16/30\n"
     ]
    },
    {
     "name": "stderr",
     "output_type": "stream",
     "text": [
      "100%|████████████████████████████████████████████████████████████████████████████████| 101/101 [00:43<00:00,  2.30it/s]\n"
     ]
    },
    {
     "name": "stdout",
     "output_type": "stream",
     "text": [
      "Train Loss: 0.3121  Acc: 0.8997\n"
     ]
    },
    {
     "name": "stderr",
     "output_type": "stream",
     "text": [
      "100%|████████████████████████████████████████████████████████████████████████████████████| 8/8 [00:01<00:00,  5.80it/s]\n"
     ]
    },
    {
     "name": "stdout",
     "output_type": "stream",
     "text": [
      "Val Loss: 0.3716  Acc: 0.8700\n",
      "Epoch 17/30\n"
     ]
    },
    {
     "name": "stderr",
     "output_type": "stream",
     "text": [
      "100%|████████████████████████████████████████████████████████████████████████████████| 101/101 [00:43<00:00,  2.30it/s]\n"
     ]
    },
    {
     "name": "stdout",
     "output_type": "stream",
     "text": [
      "Train Loss: 0.3029  Acc: 0.9045\n"
     ]
    },
    {
     "name": "stderr",
     "output_type": "stream",
     "text": [
      "100%|████████████████████████████████████████████████████████████████████████████████████| 8/8 [00:01<00:00,  5.72it/s]\n"
     ]
    },
    {
     "name": "stdout",
     "output_type": "stream",
     "text": [
      "Val Loss: 0.3770  Acc: 0.8707\n",
      "Epoch 18/30\n"
     ]
    },
    {
     "name": "stderr",
     "output_type": "stream",
     "text": [
      "100%|████████████████████████████████████████████████████████████████████████████████| 101/101 [00:44<00:00,  2.28it/s]\n"
     ]
    },
    {
     "name": "stdout",
     "output_type": "stream",
     "text": [
      "Train Loss: 0.2951  Acc: 0.9105\n"
     ]
    },
    {
     "name": "stderr",
     "output_type": "stream",
     "text": [
      "100%|████████████████████████████████████████████████████████████████████████████████████| 8/8 [00:01<00:00,  5.68it/s]\n"
     ]
    },
    {
     "name": "stdout",
     "output_type": "stream",
     "text": [
      "Val Loss: 0.3673  Acc: 0.8704\n",
      "Epoch 19/30\n"
     ]
    },
    {
     "name": "stderr",
     "output_type": "stream",
     "text": [
      "100%|████████████████████████████████████████████████████████████████████████████████| 101/101 [00:43<00:00,  2.30it/s]\n"
     ]
    },
    {
     "name": "stdout",
     "output_type": "stream",
     "text": [
      "Train Loss: 0.2879  Acc: 0.9158\n"
     ]
    },
    {
     "name": "stderr",
     "output_type": "stream",
     "text": [
      "100%|████████████████████████████████████████████████████████████████████████████████████| 8/8 [00:01<00:00,  5.73it/s]\n"
     ]
    },
    {
     "name": "stdout",
     "output_type": "stream",
     "text": [
      "Val Loss: 0.3666  Acc: 0.8795\n",
      "Epoch 20/30\n"
     ]
    },
    {
     "name": "stderr",
     "output_type": "stream",
     "text": [
      "100%|████████████████████████████████████████████████████████████████████████████████| 101/101 [00:43<00:00,  2.31it/s]\n"
     ]
    },
    {
     "name": "stdout",
     "output_type": "stream",
     "text": [
      "Train Loss: 0.2807  Acc: 0.9189\n"
     ]
    },
    {
     "name": "stderr",
     "output_type": "stream",
     "text": [
      "100%|████████████████████████████████████████████████████████████████████████████████████| 8/8 [00:01<00:00,  5.75it/s]\n"
     ]
    },
    {
     "name": "stdout",
     "output_type": "stream",
     "text": [
      "Val Loss: 0.3632  Acc: 0.8740\n",
      "Epoch 21/30\n"
     ]
    },
    {
     "name": "stderr",
     "output_type": "stream",
     "text": [
      "100%|████████████████████████████████████████████████████████████████████████████████| 101/101 [00:44<00:00,  2.29it/s]\n"
     ]
    },
    {
     "name": "stdout",
     "output_type": "stream",
     "text": [
      "Train Loss: 0.2751  Acc: 0.9223\n"
     ]
    },
    {
     "name": "stderr",
     "output_type": "stream",
     "text": [
      "100%|████████████████████████████████████████████████████████████████████████████████████| 8/8 [00:01<00:00,  5.73it/s]\n"
     ]
    },
    {
     "name": "stdout",
     "output_type": "stream",
     "text": [
      "Val Loss: 0.3646  Acc: 0.8761\n",
      "Epoch 22/30\n"
     ]
    },
    {
     "name": "stderr",
     "output_type": "stream",
     "text": [
      "100%|████████████████████████████████████████████████████████████████████████████████| 101/101 [00:43<00:00,  2.34it/s]\n"
     ]
    },
    {
     "name": "stdout",
     "output_type": "stream",
     "text": [
      "Train Loss: 0.2691  Acc: 0.9262\n"
     ]
    },
    {
     "name": "stderr",
     "output_type": "stream",
     "text": [
      "100%|████████████████████████████████████████████████████████████████████████████████████| 8/8 [00:01<00:00,  6.02it/s]\n"
     ]
    },
    {
     "name": "stdout",
     "output_type": "stream",
     "text": [
      "Val Loss: 0.3685  Acc: 0.8674\n",
      "Epoch 23/30\n"
     ]
    },
    {
     "name": "stderr",
     "output_type": "stream",
     "text": [
      "100%|████████████████████████████████████████████████████████████████████████████████| 101/101 [00:42<00:00,  2.37it/s]\n"
     ]
    },
    {
     "name": "stdout",
     "output_type": "stream",
     "text": [
      "Train Loss: 0.2675  Acc: 0.9269\n"
     ]
    },
    {
     "name": "stderr",
     "output_type": "stream",
     "text": [
      "100%|████████████████████████████████████████████████████████████████████████████████████| 8/8 [00:01<00:00,  5.95it/s]\n"
     ]
    },
    {
     "name": "stdout",
     "output_type": "stream",
     "text": [
      "Val Loss: 0.3604  Acc: 0.8773\n",
      "Epoch 24/30\n"
     ]
    },
    {
     "name": "stderr",
     "output_type": "stream",
     "text": [
      "100%|████████████████████████████████████████████████████████████████████████████████| 101/101 [00:42<00:00,  2.35it/s]\n"
     ]
    },
    {
     "name": "stdout",
     "output_type": "stream",
     "text": [
      "Train Loss: 0.2591  Acc: 0.9326\n"
     ]
    },
    {
     "name": "stderr",
     "output_type": "stream",
     "text": [
      "100%|████████████████████████████████████████████████████████████████████████████████████| 8/8 [00:01<00:00,  5.97it/s]\n"
     ]
    },
    {
     "name": "stdout",
     "output_type": "stream",
     "text": [
      "Val Loss: 0.3594  Acc: 0.8740\n",
      "Epoch 25/30\n"
     ]
    },
    {
     "name": "stderr",
     "output_type": "stream",
     "text": [
      "100%|████████████████████████████████████████████████████████████████████████████████| 101/101 [00:44<00:00,  2.28it/s]\n"
     ]
    },
    {
     "name": "stdout",
     "output_type": "stream",
     "text": [
      "Train Loss: 0.2534  Acc: 0.9355\n"
     ]
    },
    {
     "name": "stderr",
     "output_type": "stream",
     "text": [
      "100%|████████████████████████████████████████████████████████████████████████████████████| 8/8 [00:01<00:00,  5.90it/s]\n"
     ]
    },
    {
     "name": "stdout",
     "output_type": "stream",
     "text": [
      "Val Loss: 0.3590  Acc: 0.8762\n",
      "Epoch 26/30\n"
     ]
    },
    {
     "name": "stderr",
     "output_type": "stream",
     "text": [
      "100%|████████████████████████████████████████████████████████████████████████████████| 101/101 [00:44<00:00,  2.29it/s]\n"
     ]
    },
    {
     "name": "stdout",
     "output_type": "stream",
     "text": [
      "Train Loss: 0.2486  Acc: 0.9384\n"
     ]
    },
    {
     "name": "stderr",
     "output_type": "stream",
     "text": [
      "100%|████████████████████████████████████████████████████████████████████████████████████| 8/8 [00:01<00:00,  5.75it/s]\n"
     ]
    },
    {
     "name": "stdout",
     "output_type": "stream",
     "text": [
      "Val Loss: 0.3579  Acc: 0.8769\n",
      "Epoch 27/30\n"
     ]
    },
    {
     "name": "stderr",
     "output_type": "stream",
     "text": [
      "100%|████████████████████████████████████████████████████████████████████████████████| 101/101 [00:43<00:00,  2.30it/s]\n"
     ]
    },
    {
     "name": "stdout",
     "output_type": "stream",
     "text": [
      "Train Loss: 0.2454  Acc: 0.9404\n"
     ]
    },
    {
     "name": "stderr",
     "output_type": "stream",
     "text": [
      "100%|████████████████████████████████████████████████████████████████████████████████████| 8/8 [00:01<00:00,  4.67it/s]\n"
     ]
    },
    {
     "name": "stdout",
     "output_type": "stream",
     "text": [
      "Val Loss: 0.3562  Acc: 0.8745\n",
      "Epoch 28/30\n"
     ]
    },
    {
     "name": "stderr",
     "output_type": "stream",
     "text": [
      "100%|████████████████████████████████████████████████████████████████████████████████| 101/101 [00:44<00:00,  2.29it/s]\n"
     ]
    },
    {
     "name": "stdout",
     "output_type": "stream",
     "text": [
      "Train Loss: 0.2415  Acc: 0.9423\n"
     ]
    },
    {
     "name": "stderr",
     "output_type": "stream",
     "text": [
      "100%|████████████████████████████████████████████████████████████████████████████████████| 8/8 [00:01<00:00,  5.79it/s]\n"
     ]
    },
    {
     "name": "stdout",
     "output_type": "stream",
     "text": [
      "Val Loss: 0.3597  Acc: 0.8719\n",
      "Epoch 29/30\n"
     ]
    },
    {
     "name": "stderr",
     "output_type": "stream",
     "text": [
      "100%|████████████████████████████████████████████████████████████████████████████████| 101/101 [00:43<00:00,  2.31it/s]\n"
     ]
    },
    {
     "name": "stdout",
     "output_type": "stream",
     "text": [
      "Train Loss: 0.2388  Acc: 0.9448\n"
     ]
    },
    {
     "name": "stderr",
     "output_type": "stream",
     "text": [
      "100%|████████████████████████████████████████████████████████████████████████████████████| 8/8 [00:01<00:00,  5.89it/s]\n"
     ]
    },
    {
     "name": "stdout",
     "output_type": "stream",
     "text": [
      "Val Loss: 0.3519  Acc: 0.8821\n",
      "Epoch 30/30\n"
     ]
    },
    {
     "name": "stderr",
     "output_type": "stream",
     "text": [
      "100%|████████████████████████████████████████████████████████████████████████████████| 101/101 [00:43<00:00,  2.34it/s]\n"
     ]
    },
    {
     "name": "stdout",
     "output_type": "stream",
     "text": [
      "Train Loss: 0.2352  Acc: 0.9464\n"
     ]
    },
    {
     "name": "stderr",
     "output_type": "stream",
     "text": [
      "100%|████████████████████████████████████████████████████████████████████████████████████| 8/8 [00:01<00:00,  5.78it/s]\n"
     ]
    },
    {
     "name": "stdout",
     "output_type": "stream",
     "text": [
      "Val Loss: 0.3519  Acc: 0.8775\n",
      "Training complete in 22m 50\n",
      "Best validation accuracy: 0.8821\n"
     ]
    },
    {
     "data": {
      "image/png": "[encoded data removed]",
      "text/plain": [
       "<Figure size 432x288 with 2 Axes>"
      ]
     },
     "metadata": {
      "needs_background": "light"
     },
     "output_type": "display_data"
    }
   ],
   "source": [
    "if mode == \"train\":\n",
    "    model, train_loss, train_acc, valid_loss, valid_acc = train_model(model, device, n_epochs, batch_size, learning_rate, len(train_ds), len(valid_ds), dataloader)\n",
    "    torch.save(model.state_dict(), os.path.join(save_dir, \"seg_model_%s.pth\" % model_type))\n",
    "else:\n",
    "    model.load_state_dict(torch.load(os.path.join(save_dir, \"seg_model_%s.pth\" % model_type)))"
   ]
  },
  {
   "cell_type": "code",
   "execution_count": 26,
   "id": "f3bf7dbb",
   "metadata": {},
   "outputs": [
    {
     "data": {
      "image/png": "[encoded data removed]",
      "text/plain": [
       "<Figure size 432x288 with 1 Axes>"
      ]
     },
     "metadata": {
      "needs_background": "light"
     },
     "output_type": "display_data"
    }
   ],
   "source": [
    "example_id = 11\n",
    "show(valid_ds[example_id][0])"
   ]
  },
  {
   "cell_type": "code",
   "execution_count": 27,
   "id": "55873c3b",
   "metadata": {},
   "outputs": [
    {
     "data": {
      "image/png": "[encoded data removed]",
      "text/plain": [
       "<Figure size 432x288 with 1 Axes>"
      ]
     },
     "metadata": {
      "needs_background": "light"
     },
     "output_type": "display_data"
    }
   ],
   "source": [
    "show(to_colorrep(valid_ds[example_id][1]))"
   ]
  },
  {
   "cell_type": "code",
   "execution_count": 28,
   "id": "1040b815",
   "metadata": {},
   "outputs": [
    {
     "data": {
      "image/png": "[encoded data removed]",
      "text/plain": [
       "<Figure size 432x288 with 1 Axes>"
      ]
     },
     "metadata": {
      "needs_background": "light"
     },
     "output_type": "display_data"
    }
   ],
   "source": [
    "model.cpu()\n",
    "pred = model(valid_ds[example_id][0].unsqueeze(0))[0].round()\n",
    "show(to_colorrep(pred))"
   ]
  },
  {
   "cell_type": "code",
   "execution_count": null,
   "id": "6540b486",
   "metadata": {},
   "outputs": [],
   "source": []
  }
 ],
 "metadata": {
  "kernelspec": {
   "display_name": "Python 3 (ipykernel)",
   "language": "python",
   "name": "python3"
  },
  "language_info": {
   "codemirror_mode": {
    "name": "ipython",
    "version": 3
   },
   "file_extension": ".py",
   "mimetype": "text/x-python",
   "name": "python",
   "nbconvert_exporter": "python",
   "pygments_lexer": "ipython3",
   "version": "3.8.5"
  }
 },
 "nbformat": 4,
 "nbformat_minor": 5
}
